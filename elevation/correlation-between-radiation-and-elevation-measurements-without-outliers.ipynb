{
 "cells": [
  {
   "cell_type": "code",
   "execution_count": 2,
   "metadata": {},
   "outputs": [],
   "source": [
    "import pandas as pd"
   ]
  },
  {
   "cell_type": "code",
   "execution_count": 37,
   "metadata": {},
   "outputs": [],
   "source": [
    "# MERGE MEASUREMENTS WITH ELEVATION\n",
    "measurements = pd.read_csv(\"measurements-out-2903-q1q3.csv\")\n",
    "\n",
    "# elevation = pd.read_csv(\"elevation_all.csv\")\n",
    "\n",
    "# dropped = elevation.dropna(subset=[\"elevation\"])\n",
    "\n",
    "# merged = measurements.merge(elevation,how=\"left\",left_on=[\"latitude\",\"longitude\"],right_on=[\"lat\",\"lon\"])\n",
    "\n",
    "# merged.to_csv(\"measurements_with_elevation_without_outliers.csv\",index=None)"
   ]
  },
  {
   "cell_type": "code",
   "execution_count": 3,
   "metadata": {},
   "outputs": [
    {
     "data": {
      "text/html": [
       "<div>\n",
       "<style scoped>\n",
       "    .dataframe tbody tr th:only-of-type {\n",
       "        vertical-align: middle;\n",
       "    }\n",
       "\n",
       "    .dataframe tbody tr th {\n",
       "        vertical-align: top;\n",
       "    }\n",
       "\n",
       "    .dataframe thead th {\n",
       "        text-align: right;\n",
       "    }\n",
       "</style>\n",
       "<table border=\"1\" class=\"dataframe\">\n",
       "  <thead>\n",
       "    <tr style=\"text-align: right;\">\n",
       "      <th></th>\n",
       "      <th>datetime</th>\n",
       "      <th>latitude</th>\n",
       "      <th>longitude</th>\n",
       "      <th>radiation</th>\n",
       "      <th>lat</th>\n",
       "      <th>lon</th>\n",
       "      <th>elevation</th>\n",
       "    </tr>\n",
       "  </thead>\n",
       "  <tbody>\n",
       "    <tr>\n",
       "      <th>0</th>\n",
       "      <td>2021-03-14</td>\n",
       "      <td>42.106730</td>\n",
       "      <td>-71.71281</td>\n",
       "      <td>0.040000</td>\n",
       "      <td>NaN</td>\n",
       "      <td>NaN</td>\n",
       "      <td>NaN</td>\n",
       "    </tr>\n",
       "    <tr>\n",
       "      <th>1</th>\n",
       "      <td>2021-03-14</td>\n",
       "      <td>1.809340</td>\n",
       "      <td>41.23510</td>\n",
       "      <td>0.094286</td>\n",
       "      <td>NaN</td>\n",
       "      <td>NaN</td>\n",
       "      <td>NaN</td>\n",
       "    </tr>\n",
       "    <tr>\n",
       "      <th>2</th>\n",
       "      <td>2021-03-14</td>\n",
       "      <td>41.259710</td>\n",
       "      <td>-73.82321</td>\n",
       "      <td>0.040000</td>\n",
       "      <td>NaN</td>\n",
       "      <td>NaN</td>\n",
       "      <td>NaN</td>\n",
       "    </tr>\n",
       "    <tr>\n",
       "      <th>3</th>\n",
       "      <td>2021-03-14</td>\n",
       "      <td>41.259710</td>\n",
       "      <td>-73.82321</td>\n",
       "      <td>0.037143</td>\n",
       "      <td>NaN</td>\n",
       "      <td>NaN</td>\n",
       "      <td>NaN</td>\n",
       "    </tr>\n",
       "    <tr>\n",
       "      <th>4</th>\n",
       "      <td>2021-03-14</td>\n",
       "      <td>41.259710</td>\n",
       "      <td>-73.82321</td>\n",
       "      <td>0.040000</td>\n",
       "      <td>NaN</td>\n",
       "      <td>NaN</td>\n",
       "      <td>NaN</td>\n",
       "    </tr>\n",
       "    <tr>\n",
       "      <th>...</th>\n",
       "      <td>...</td>\n",
       "      <td>...</td>\n",
       "      <td>...</td>\n",
       "      <td>...</td>\n",
       "      <td>...</td>\n",
       "      <td>...</td>\n",
       "      <td>...</td>\n",
       "    </tr>\n",
       "    <tr>\n",
       "      <th>135786897</th>\n",
       "      <td>2011-04-23</td>\n",
       "      <td>35.641018</td>\n",
       "      <td>139.72076</td>\n",
       "      <td>0.134286</td>\n",
       "      <td>NaN</td>\n",
       "      <td>NaN</td>\n",
       "      <td>NaN</td>\n",
       "    </tr>\n",
       "    <tr>\n",
       "      <th>135786898</th>\n",
       "      <td>2011-04-23</td>\n",
       "      <td>35.640965</td>\n",
       "      <td>139.72070</td>\n",
       "      <td>0.140000</td>\n",
       "      <td>35.640965</td>\n",
       "      <td>139.7207</td>\n",
       "      <td>23.0</td>\n",
       "    </tr>\n",
       "    <tr>\n",
       "      <th>135786899</th>\n",
       "      <td>2011-04-23</td>\n",
       "      <td>35.640970</td>\n",
       "      <td>139.72070</td>\n",
       "      <td>0.140000</td>\n",
       "      <td>NaN</td>\n",
       "      <td>NaN</td>\n",
       "      <td>NaN</td>\n",
       "    </tr>\n",
       "    <tr>\n",
       "      <th>135786900</th>\n",
       "      <td>2011-04-23</td>\n",
       "      <td>35.640970</td>\n",
       "      <td>139.72070</td>\n",
       "      <td>0.134286</td>\n",
       "      <td>NaN</td>\n",
       "      <td>NaN</td>\n",
       "      <td>NaN</td>\n",
       "    </tr>\n",
       "    <tr>\n",
       "      <th>135786901</th>\n",
       "      <td>2011-04-23</td>\n",
       "      <td>35.640970</td>\n",
       "      <td>139.72070</td>\n",
       "      <td>0.157143</td>\n",
       "      <td>NaN</td>\n",
       "      <td>NaN</td>\n",
       "      <td>NaN</td>\n",
       "    </tr>\n",
       "  </tbody>\n",
       "</table>\n",
       "<p>135786902 rows × 7 columns</p>\n",
       "</div>"
      ],
      "text/plain": [
       "             datetime   latitude  longitude  radiation        lat       lon  \\\n",
       "0          2021-03-14  42.106730  -71.71281   0.040000        NaN       NaN   \n",
       "1          2021-03-14   1.809340   41.23510   0.094286        NaN       NaN   \n",
       "2          2021-03-14  41.259710  -73.82321   0.040000        NaN       NaN   \n",
       "3          2021-03-14  41.259710  -73.82321   0.037143        NaN       NaN   \n",
       "4          2021-03-14  41.259710  -73.82321   0.040000        NaN       NaN   \n",
       "...               ...        ...        ...        ...        ...       ...   \n",
       "135786897  2011-04-23  35.641018  139.72076   0.134286        NaN       NaN   \n",
       "135786898  2011-04-23  35.640965  139.72070   0.140000  35.640965  139.7207   \n",
       "135786899  2011-04-23  35.640970  139.72070   0.140000        NaN       NaN   \n",
       "135786900  2011-04-23  35.640970  139.72070   0.134286        NaN       NaN   \n",
       "135786901  2011-04-23  35.640970  139.72070   0.157143        NaN       NaN   \n",
       "\n",
       "           elevation  \n",
       "0                NaN  \n",
       "1                NaN  \n",
       "2                NaN  \n",
       "3                NaN  \n",
       "4                NaN  \n",
       "...              ...  \n",
       "135786897        NaN  \n",
       "135786898       23.0  \n",
       "135786899        NaN  \n",
       "135786900        NaN  \n",
       "135786901        NaN  \n",
       "\n",
       "[135786902 rows x 7 columns]"
      ]
     },
     "execution_count": 3,
     "metadata": {},
     "output_type": "execute_result"
    }
   ],
   "source": [
    "merged"
   ]
  },
  {
   "cell_type": "code",
   "execution_count": 3,
   "metadata": {},
   "outputs": [],
   "source": [
    "########################################################"
   ]
  },
  {
   "cell_type": "code",
   "execution_count": 2,
   "metadata": {},
   "outputs": [],
   "source": [
    "# REMOVE MEASUREMENTS WITHOUT ELEVATION\n",
    "# merged = pd.read_csv(\"measurements_with_elevation_without_outliers.csv\")\n",
    "\n",
    "# mdropped = merged.dropna(subset=[\"elevation\"])\n",
    "\n",
    "# del mdropped[\"lat\"]\n",
    "# del mdropped[\"lon\"]\n",
    "\n",
    "# mdropped.reset_index(inplace=True)\n",
    "\n",
    "# del mdropped[\"index\"]\n",
    "\n",
    "# mdropped.to_csv(\"measurements_with_elevation_without_outliers_cleaned.csv\",index=None)"
   ]
  },
  {
   "cell_type": "code",
   "execution_count": 3,
   "metadata": {},
   "outputs": [],
   "source": [
    "mdropped = pd.read_csv(\"measurements_with_elevation_without_outliers_cleaned.csv\")"
   ]
  },
  {
   "cell_type": "code",
   "execution_count": 4,
   "metadata": {},
   "outputs": [
    {
     "data": {
      "text/plain": [
       "16310517"
      ]
     },
     "execution_count": 4,
     "metadata": {},
     "output_type": "execute_result"
    }
   ],
   "source": [
    "len(mdropped)"
   ]
  },
  {
   "cell_type": "code",
   "execution_count": 3,
   "metadata": {},
   "outputs": [
    {
     "name": "stdout",
     "output_type": "stream",
     "text": [
      "2021-03-14\n",
      "1981-10-03\n"
     ]
    }
   ],
   "source": [
    "print(mdropped[\"datetime\"].max())\n",
    "print(mdropped[mdropped[\"datetime\"]!=\"1970-01-01\"][\"datetime\"].min())"
   ]
  },
  {
   "cell_type": "code",
   "execution_count": 4,
   "metadata": {},
   "outputs": [
    {
     "data": {
      "text/plain": [
       "True"
      ]
     },
     "execution_count": 4,
     "metadata": {},
     "output_type": "execute_result"
    }
   ],
   "source": [
    "len(~mdropped[\"datetime\"].isna()) == len(mdropped[\"datetime\"])"
   ]
  },
  {
   "cell_type": "code",
   "execution_count": 5,
   "metadata": {},
   "outputs": [
    {
     "data": {
      "text/plain": [
       "0           2021-03-14\n",
       "1           2021-03-14\n",
       "2           2021-03-14\n",
       "3           2021-03-14\n",
       "4           2021-03-14\n",
       "               ...    \n",
       "16310512    2011-04-23\n",
       "16310513    2011-04-23\n",
       "16310514    2011-04-23\n",
       "16310515    2011-04-23\n",
       "16310516    2011-04-23\n",
       "Name: datetime, Length: 16310517, dtype: object"
      ]
     },
     "execution_count": 5,
     "metadata": {},
     "output_type": "execute_result"
    }
   ],
   "source": [
    "mdropped[\"datetime\"]"
   ]
  },
  {
   "cell_type": "code",
   "execution_count": 6,
   "metadata": {},
   "outputs": [
    {
     "data": {
      "text/html": [
       "<div>\n",
       "<style scoped>\n",
       "    .dataframe tbody tr th:only-of-type {\n",
       "        vertical-align: middle;\n",
       "    }\n",
       "\n",
       "    .dataframe tbody tr th {\n",
       "        vertical-align: top;\n",
       "    }\n",
       "\n",
       "    .dataframe thead th {\n",
       "        text-align: right;\n",
       "    }\n",
       "</style>\n",
       "<table border=\"1\" class=\"dataframe\">\n",
       "  <thead>\n",
       "    <tr style=\"text-align: right;\">\n",
       "      <th></th>\n",
       "      <th>datetime</th>\n",
       "      <th>latitude</th>\n",
       "      <th>longitude</th>\n",
       "      <th>radiation</th>\n",
       "      <th>elevation</th>\n",
       "    </tr>\n",
       "  </thead>\n",
       "  <tbody>\n",
       "    <tr>\n",
       "      <th>1555036</th>\n",
       "      <td>1970-01-01</td>\n",
       "      <td>39.4099</td>\n",
       "      <td>-77.9069</td>\n",
       "      <td>0.042857</td>\n",
       "      <td>144.0</td>\n",
       "    </tr>\n",
       "  </tbody>\n",
       "</table>\n",
       "</div>"
      ],
      "text/plain": [
       "           datetime  latitude  longitude  radiation  elevation\n",
       "1555036  1970-01-01   39.4099   -77.9069   0.042857      144.0"
      ]
     },
     "execution_count": 6,
     "metadata": {},
     "output_type": "execute_result"
    }
   ],
   "source": [
    "mdropped[mdropped[\"datetime\"]==\"1970-01-01\"]"
   ]
  },
  {
   "cell_type": "markdown",
   "metadata": {},
   "source": [
    "## Analysis of correlation between radiation and elevation"
   ]
  },
  {
   "cell_type": "markdown",
   "metadata": {},
   "source": [
    "### Different measurements for the same coordination treated as different samples"
   ]
  },
  {
   "cell_type": "code",
   "execution_count": 7,
   "metadata": {},
   "outputs": [],
   "source": [
    "df = mdropped[[\"radiation\",\"elevation\"]]"
   ]
  },
  {
   "cell_type": "code",
   "execution_count": 8,
   "metadata": {},
   "outputs": [
    {
     "data": {
      "text/html": [
       "<div>\n",
       "<style scoped>\n",
       "    .dataframe tbody tr th:only-of-type {\n",
       "        vertical-align: middle;\n",
       "    }\n",
       "\n",
       "    .dataframe tbody tr th {\n",
       "        vertical-align: top;\n",
       "    }\n",
       "\n",
       "    .dataframe thead th {\n",
       "        text-align: right;\n",
       "    }\n",
       "</style>\n",
       "<table border=\"1\" class=\"dataframe\">\n",
       "  <thead>\n",
       "    <tr style=\"text-align: right;\">\n",
       "      <th></th>\n",
       "      <th>radiation</th>\n",
       "      <th>elevation</th>\n",
       "    </tr>\n",
       "  </thead>\n",
       "  <tbody>\n",
       "    <tr>\n",
       "      <th>0</th>\n",
       "      <td>0.025714</td>\n",
       "      <td>23.0</td>\n",
       "    </tr>\n",
       "    <tr>\n",
       "      <th>1</th>\n",
       "      <td>0.117143</td>\n",
       "      <td>23.0</td>\n",
       "    </tr>\n",
       "    <tr>\n",
       "      <th>2</th>\n",
       "      <td>0.037143</td>\n",
       "      <td>134.0</td>\n",
       "    </tr>\n",
       "    <tr>\n",
       "      <th>3</th>\n",
       "      <td>0.125714</td>\n",
       "      <td>134.0</td>\n",
       "    </tr>\n",
       "    <tr>\n",
       "      <th>4</th>\n",
       "      <td>0.134286</td>\n",
       "      <td>13.0</td>\n",
       "    </tr>\n",
       "    <tr>\n",
       "      <th>...</th>\n",
       "      <td>...</td>\n",
       "      <td>...</td>\n",
       "    </tr>\n",
       "    <tr>\n",
       "      <th>16310512</th>\n",
       "      <td>0.111429</td>\n",
       "      <td>7.0</td>\n",
       "    </tr>\n",
       "    <tr>\n",
       "      <th>16310513</th>\n",
       "      <td>0.111429</td>\n",
       "      <td>6.0</td>\n",
       "    </tr>\n",
       "    <tr>\n",
       "      <th>16310514</th>\n",
       "      <td>0.114286</td>\n",
       "      <td>0.0</td>\n",
       "    </tr>\n",
       "    <tr>\n",
       "      <th>16310515</th>\n",
       "      <td>0.108571</td>\n",
       "      <td>20.0</td>\n",
       "    </tr>\n",
       "    <tr>\n",
       "      <th>16310516</th>\n",
       "      <td>0.140000</td>\n",
       "      <td>23.0</td>\n",
       "    </tr>\n",
       "  </tbody>\n",
       "</table>\n",
       "<p>16310517 rows × 2 columns</p>\n",
       "</div>"
      ],
      "text/plain": [
       "          radiation  elevation\n",
       "0          0.025714       23.0\n",
       "1          0.117143       23.0\n",
       "2          0.037143      134.0\n",
       "3          0.125714      134.0\n",
       "4          0.134286       13.0\n",
       "...             ...        ...\n",
       "16310512   0.111429        7.0\n",
       "16310513   0.111429        6.0\n",
       "16310514   0.114286        0.0\n",
       "16310515   0.108571       20.0\n",
       "16310516   0.140000       23.0\n",
       "\n",
       "[16310517 rows x 2 columns]"
      ]
     },
     "execution_count": 8,
     "metadata": {},
     "output_type": "execute_result"
    }
   ],
   "source": [
    "df"
   ]
  },
  {
   "cell_type": "code",
   "execution_count": 9,
   "metadata": {},
   "outputs": [],
   "source": [
    "import numpy as np\n",
    "from matplotlib import pyplot as plt\n",
    "from scipy.stats import pearsonr"
   ]
  },
  {
   "cell_type": "code",
   "execution_count": 10,
   "metadata": {},
   "outputs": [
    {
     "name": "stdout",
     "output_type": "stream",
     "text": [
      "Radiation: mean=0.085 stdv=0.040 max=0.198 min=0.005\n",
      "Elevation: mean=160.690 stdv=234.804 max=4478.000 min=-413.000\n"
     ]
    }
   ],
   "source": [
    "print('Radiation: mean=%.3f stdv=%.3f max=%.3f min=%.3f' % (np.mean(df[\"radiation\"]), np.std(df[\"radiation\"]), np.max(df[\"radiation\"]), np.min(df[\"radiation\"])))\n",
    "print('Elevation: mean=%.3f stdv=%.3f max=%.3f min=%.3f' % (np.mean(df[\"elevation\"]), np.std(df[\"elevation\"]), np.max(df[\"elevation\"]), np.min(df[\"elevation\"])))"
   ]
  },
  {
   "cell_type": "code",
   "execution_count": 11,
   "metadata": {},
   "outputs": [
    {
     "data": {
      "image/png": "[encoded data removed]",
      "text/plain": [
       "<Figure size 432x288 with 1 Axes>"
      ]
     },
     "metadata": {
      "needs_background": "light"
     },
     "output_type": "display_data"
    }
   ],
   "source": [
    "plt.scatter(df[\"elevation\"],df[\"radiation\"])\n",
    "plt.xlabel(\"Elevation\")\n",
    "plt.ylabel(\"Radiation\")\n",
    "plt.show()"
   ]
  },
  {
   "cell_type": "code",
   "execution_count": 12,
   "metadata": {},
   "outputs": [
    {
     "name": "stdout",
     "output_type": "stream",
     "text": [
      "Pearsons correlation: 0.157\n"
     ]
    }
   ],
   "source": [
    "corr, _ = pearsonr(df[\"elevation\"],df[\"radiation\"])\n",
    "print(f\"Pearsons correlation: %.3f\" % (corr))"
   ]
  },
  {
   "cell_type": "markdown",
   "metadata": {},
   "source": [
    "#### Elevation below 700 m"
   ]
  },
  {
   "cell_type": "code",
   "execution_count": 13,
   "metadata": {},
   "outputs": [
    {
     "name": "stdout",
     "output_type": "stream",
     "text": [
      "Number of samples: 16022395\n"
     ]
    }
   ],
   "source": [
    "below_700 = df[df[\"elevation\"]<700]\n",
    "print(f\"Number of samples: {len(below_700)}\")"
   ]
  },
  {
   "cell_type": "code",
   "execution_count": 14,
   "metadata": {},
   "outputs": [
    {
     "data": {
      "image/png": "[encoded data removed]",
      "text/plain": [
       "<Figure size 432x288 with 1 Axes>"
      ]
     },
     "metadata": {
      "needs_background": "light"
     },
     "output_type": "display_data"
    }
   ],
   "source": [
    "plt.scatter(below_700[\"elevation\"],below_700[\"radiation\"])\n",
    "plt.xlabel(\"Elevation\")\n",
    "plt.ylabel(\"Radiation\")\n",
    "plt.show()"
   ]
  },
  {
   "cell_type": "code",
   "execution_count": 15,
   "metadata": {},
   "outputs": [
    {
     "name": "stdout",
     "output_type": "stream",
     "text": [
      "Pearsons correlation: 0.090\n"
     ]
    }
   ],
   "source": [
    "b700_corr, _ = pearsonr(below_700[\"elevation\"],below_700[\"radiation\"])\n",
    "print(f\"Pearsons correlation: %.3f\" % (b700_corr))"
   ]
  },
  {
   "cell_type": "markdown",
   "metadata": {},
   "source": [
    "#### Elevation above 700 m"
   ]
  },
  {
   "cell_type": "code",
   "execution_count": 16,
   "metadata": {},
   "outputs": [
    {
     "name": "stdout",
     "output_type": "stream",
     "text": [
      "Number of samples: 288122\n"
     ]
    }
   ],
   "source": [
    "above_700 = df[df[\"elevation\"]>=700]\n",
    "print(f\"Number of samples: {len(above_700)}\")"
   ]
  },
  {
   "cell_type": "code",
   "execution_count": 17,
   "metadata": {},
   "outputs": [
    {
     "data": {
      "image/png": "[encoded data removed]",
      "text/plain": [
       "<Figure size 432x288 with 1 Axes>"
      ]
     },
     "metadata": {
      "needs_background": "light"
     },
     "output_type": "display_data"
    }
   ],
   "source": [
    "plt.scatter(above_700[\"elevation\"],above_700[\"radiation\"])\n",
    "plt.xlabel(\"Elevation\")\n",
    "plt.ylabel(\"Radiation\")\n",
    "plt.show()"
   ]
  },
  {
   "cell_type": "code",
   "execution_count": 18,
   "metadata": {},
   "outputs": [
    {
     "name": "stdout",
     "output_type": "stream",
     "text": [
      "Pearsons correlation: 0.363\n"
     ]
    }
   ],
   "source": [
    "a700_corr, _ = pearsonr(above_700[\"elevation\"],above_700[\"radiation\"])\n",
    "print(f\"Pearsons correlation: %.3f\" % (a700_corr))"
   ]
  },
  {
   "cell_type": "markdown",
   "metadata": {},
   "source": [
    "#### Northern hemisphere"
   ]
  },
  {
   "cell_type": "code",
   "execution_count": 19,
   "metadata": {},
   "outputs": [
    {
     "name": "stdout",
     "output_type": "stream",
     "text": [
      "Number of samples: 16175529\n"
     ]
    }
   ],
   "source": [
    "nh = mdropped[mdropped[\"latitude\"]>0][[\"elevation\",\"radiation\"]]\n",
    "print(f\"Number of samples: {len(nh)}\")"
   ]
  },
  {
   "cell_type": "code",
   "execution_count": 20,
   "metadata": {},
   "outputs": [
    {
     "data": {
      "image/png": "[encoded data removed]",
      "text/plain": [
       "<Figure size 432x288 with 1 Axes>"
      ]
     },
     "metadata": {
      "needs_background": "light"
     },
     "output_type": "display_data"
    }
   ],
   "source": [
    "plt.scatter(nh[\"elevation\"],nh[\"radiation\"])\n",
    "plt.xlabel(\"Elevation\")\n",
    "plt.ylabel(\"Radiation\")\n",
    "plt.show()"
   ]
  },
  {
   "cell_type": "code",
   "execution_count": 21,
   "metadata": {},
   "outputs": [
    {
     "name": "stdout",
     "output_type": "stream",
     "text": [
      "Pearsons correlation: 0.150\n"
     ]
    }
   ],
   "source": [
    "nh_corr, _ = pearsonr(nh[\"elevation\"],nh[\"radiation\"])\n",
    "print(f\"Pearsons correlation: %.3f\" % (nh_corr))"
   ]
  },
  {
   "cell_type": "markdown",
   "metadata": {},
   "source": [
    "#### Southern hemisphere"
   ]
  },
  {
   "cell_type": "code",
   "execution_count": 22,
   "metadata": {},
   "outputs": [
    {
     "name": "stdout",
     "output_type": "stream",
     "text": [
      "Number of samples: 134988\n"
     ]
    }
   ],
   "source": [
    "sh = mdropped[mdropped[\"latitude\"]<0][[\"elevation\",\"radiation\"]]\n",
    "print(f\"Number of samples: {len(sh)}\")"
   ]
  },
  {
   "cell_type": "code",
   "execution_count": 23,
   "metadata": {},
   "outputs": [
    {
     "data": {
      "image/png": "[encoded data removed]",
      "text/plain": [
       "<Figure size 432x288 with 1 Axes>"
      ]
     },
     "metadata": {
      "needs_background": "light"
     },
     "output_type": "display_data"
    }
   ],
   "source": [
    "plt.scatter(sh[\"elevation\"],sh[\"radiation\"])\n",
    "plt.xlabel(\"Elevation\")\n",
    "plt.ylabel(\"Radiation\")\n",
    "plt.show()"
   ]
  },
  {
   "cell_type": "code",
   "execution_count": 24,
   "metadata": {},
   "outputs": [
    {
     "name": "stdout",
     "output_type": "stream",
     "text": [
      "Pearsons correlation: 0.505\n"
     ]
    }
   ],
   "source": [
    "sh_corr, _ = pearsonr(sh[\"elevation\"],sh[\"radiation\"])\n",
    "print(f\"Pearsons correlation: %.3f\" % (sh_corr))"
   ]
  },
  {
   "cell_type": "markdown",
   "metadata": {},
   "source": [
    "### Taking mean values of measurements for the same coordinations"
   ]
  },
  {
   "cell_type": "code",
   "execution_count": 25,
   "metadata": {},
   "outputs": [],
   "source": [
    "df_mean = mdropped.groupby(by=[\"latitude\",\"longitude\"]).mean()"
   ]
  },
  {
   "cell_type": "code",
   "execution_count": 26,
   "metadata": {},
   "outputs": [],
   "source": [
    "df_mean.reset_index(inplace=True)"
   ]
  },
  {
   "cell_type": "code",
   "execution_count": 27,
   "metadata": {},
   "outputs": [
    {
     "data": {
      "text/html": [
       "<div>\n",
       "<style scoped>\n",
       "    .dataframe tbody tr th:only-of-type {\n",
       "        vertical-align: middle;\n",
       "    }\n",
       "\n",
       "    .dataframe tbody tr th {\n",
       "        vertical-align: top;\n",
       "    }\n",
       "\n",
       "    .dataframe thead th {\n",
       "        text-align: right;\n",
       "    }\n",
       "</style>\n",
       "<table border=\"1\" class=\"dataframe\">\n",
       "  <thead>\n",
       "    <tr style=\"text-align: right;\">\n",
       "      <th></th>\n",
       "      <th>latitude</th>\n",
       "      <th>longitude</th>\n",
       "      <th>radiation</th>\n",
       "      <th>elevation</th>\n",
       "    </tr>\n",
       "  </thead>\n",
       "  <tbody>\n",
       "    <tr>\n",
       "      <th>0</th>\n",
       "      <td>-47.023970</td>\n",
       "      <td>-72.818210</td>\n",
       "      <td>0.102857</td>\n",
       "      <td>327.0</td>\n",
       "    </tr>\n",
       "    <tr>\n",
       "      <th>1</th>\n",
       "      <td>-47.023380</td>\n",
       "      <td>-72.817070</td>\n",
       "      <td>0.097143</td>\n",
       "      <td>338.0</td>\n",
       "    </tr>\n",
       "    <tr>\n",
       "      <th>2</th>\n",
       "      <td>-47.020070</td>\n",
       "      <td>-72.822130</td>\n",
       "      <td>0.125714</td>\n",
       "      <td>274.0</td>\n",
       "    </tr>\n",
       "    <tr>\n",
       "      <th>3</th>\n",
       "      <td>-47.018810</td>\n",
       "      <td>-72.805660</td>\n",
       "      <td>0.102857</td>\n",
       "      <td>402.0</td>\n",
       "    </tr>\n",
       "    <tr>\n",
       "      <th>4</th>\n",
       "      <td>-47.018005</td>\n",
       "      <td>-72.823530</td>\n",
       "      <td>0.097143</td>\n",
       "      <td>270.0</td>\n",
       "    </tr>\n",
       "    <tr>\n",
       "      <th>...</th>\n",
       "      <td>...</td>\n",
       "      <td>...</td>\n",
       "      <td>...</td>\n",
       "      <td>...</td>\n",
       "    </tr>\n",
       "    <tr>\n",
       "      <th>1464612</th>\n",
       "      <td>60.389050</td>\n",
       "      <td>11.215355</td>\n",
       "      <td>0.145714</td>\n",
       "      <td>196.0</td>\n",
       "    </tr>\n",
       "    <tr>\n",
       "      <th>1464613</th>\n",
       "      <td>60.389805</td>\n",
       "      <td>18.162700</td>\n",
       "      <td>0.125714</td>\n",
       "      <td>12.0</td>\n",
       "    </tr>\n",
       "    <tr>\n",
       "      <th>1464614</th>\n",
       "      <td>60.390385</td>\n",
       "      <td>17.476435</td>\n",
       "      <td>0.131429</td>\n",
       "      <td>63.0</td>\n",
       "    </tr>\n",
       "    <tr>\n",
       "      <th>1464615</th>\n",
       "      <td>60.390625</td>\n",
       "      <td>18.163130</td>\n",
       "      <td>0.105714</td>\n",
       "      <td>20.0</td>\n",
       "    </tr>\n",
       "    <tr>\n",
       "      <th>1464616</th>\n",
       "      <td>60.394080</td>\n",
       "      <td>17.475630</td>\n",
       "      <td>0.125714</td>\n",
       "      <td>49.0</td>\n",
       "    </tr>\n",
       "  </tbody>\n",
       "</table>\n",
       "<p>1464617 rows × 4 columns</p>\n",
       "</div>"
      ],
      "text/plain": [
       "          latitude  longitude  radiation  elevation\n",
       "0       -47.023970 -72.818210   0.102857      327.0\n",
       "1       -47.023380 -72.817070   0.097143      338.0\n",
       "2       -47.020070 -72.822130   0.125714      274.0\n",
       "3       -47.018810 -72.805660   0.102857      402.0\n",
       "4       -47.018005 -72.823530   0.097143      270.0\n",
       "...            ...        ...        ...        ...\n",
       "1464612  60.389050  11.215355   0.145714      196.0\n",
       "1464613  60.389805  18.162700   0.125714       12.0\n",
       "1464614  60.390385  17.476435   0.131429       63.0\n",
       "1464615  60.390625  18.163130   0.105714       20.0\n",
       "1464616  60.394080  17.475630   0.125714       49.0\n",
       "\n",
       "[1464617 rows x 4 columns]"
      ]
     },
     "execution_count": 27,
     "metadata": {},
     "output_type": "execute_result"
    }
   ],
   "source": [
    "df_mean"
   ]
  },
  {
   "cell_type": "code",
   "execution_count": 28,
   "metadata": {},
   "outputs": [
    {
     "name": "stdout",
     "output_type": "stream",
     "text": [
      "Number of samples: 1464617\n"
     ]
    }
   ],
   "source": [
    "print(f\"Number of samples: {len(df_mean)}\")"
   ]
  },
  {
   "cell_type": "code",
   "execution_count": 29,
   "metadata": {},
   "outputs": [
    {
     "data": {
      "image/png": "[encoded data removed]",
      "text/plain": [
       "<Figure size 432x288 with 1 Axes>"
      ]
     },
     "metadata": {
      "needs_background": "light"
     },
     "output_type": "display_data"
    }
   ],
   "source": [
    "plt.scatter(df_mean[\"elevation\"],df_mean[\"radiation\"])\n",
    "plt.xlabel(\"Elevation\")\n",
    "plt.ylabel(\"Radiation\")\n",
    "plt.show()"
   ]
  },
  {
   "cell_type": "code",
   "execution_count": 30,
   "metadata": {},
   "outputs": [
    {
     "name": "stdout",
     "output_type": "stream",
     "text": [
      "Pearsons correlation: 0.265\n"
     ]
    }
   ],
   "source": [
    "m_corr, _ = pearsonr(df_mean[\"elevation\"],df_mean[\"radiation\"])\n",
    "print(f\"Pearsons correlation: %.3f\" % (m_corr))"
   ]
  },
  {
   "cell_type": "markdown",
   "metadata": {},
   "source": [
    "### Taking median values of measurements for the same coordinations"
   ]
  },
  {
   "cell_type": "code",
   "execution_count": 31,
   "metadata": {},
   "outputs": [],
   "source": [
    "df_median = mdropped.groupby(by=[\"latitude\",\"longitude\"]).median()\n",
    "df_median.reset_index(inplace=True)"
   ]
  },
  {
   "cell_type": "code",
   "execution_count": 32,
   "metadata": {},
   "outputs": [
    {
     "name": "stdout",
     "output_type": "stream",
     "text": [
      "Number of samples: 1464617\n"
     ]
    }
   ],
   "source": [
    "print(f\"Number of samples: {len(df_median)}\")"
   ]
  },
  {
   "cell_type": "code",
   "execution_count": 33,
   "metadata": {},
   "outputs": [
    {
     "data": {
      "image/png": "[encoded data removed]",
      "text/plain": [
       "<Figure size 432x288 with 1 Axes>"
      ]
     },
     "metadata": {
      "needs_background": "light"
     },
     "output_type": "display_data"
    }
   ],
   "source": [
    "plt.scatter(df_median[\"elevation\"],df_median[\"radiation\"])\n",
    "plt.xlabel(\"Elevation\")\n",
    "plt.ylabel(\"Radiation\")\n",
    "plt.show()"
   ]
  },
  {
   "cell_type": "code",
   "execution_count": 34,
   "metadata": {},
   "outputs": [
    {
     "name": "stdout",
     "output_type": "stream",
     "text": [
      "Pearsons correlation: 0.264\n"
     ]
    }
   ],
   "source": [
    "median_corr, _ = pearsonr(df_median[\"elevation\"],df_median[\"radiation\"])\n",
    "print(f\"Pearsons correlation: %.3f\" % (median_corr))"
   ]
  },
  {
   "cell_type": "code",
   "execution_count": 35,
   "metadata": {},
   "outputs": [
    {
     "name": "stdout",
     "output_type": "stream",
     "text": [
      "Number of samples: 1413600\n"
     ]
    },
    {
     "data": {
      "image/png": "[encoded data removed]",
      "text/plain": [
       "<Figure size 432x288 with 1 Axes>"
      ]
     },
     "metadata": {
      "needs_background": "light"
     },
     "output_type": "display_data"
    },
    {
     "name": "stdout",
     "output_type": "stream",
     "text": [
      "Pearsons correlation: 0.252\n"
     ]
    }
   ],
   "source": [
    "nhm = df_median[df_median[\"latitude\"]>0][[\"elevation\",\"radiation\"]]\n",
    "print(f\"Number of samples: {len(nhm)}\")\n",
    "\n",
    "plt.scatter(nhm[\"elevation\"],nhm[\"radiation\"])\n",
    "plt.xlabel(\"Elevation\")\n",
    "plt.ylabel(\"Radiation\")\n",
    "plt.show()\n",
    "\n",
    "nhm_corr, _ = pearsonr(nhm[\"elevation\"],nhm[\"radiation\"])\n",
    "print(f\"Pearsons correlation: %.3f\" % (nhm_corr))"
   ]
  },
  {
   "cell_type": "code",
   "execution_count": 36,
   "metadata": {},
   "outputs": [
    {
     "name": "stdout",
     "output_type": "stream",
     "text": [
      "Number of samples: 51017\n"
     ]
    },
    {
     "data": {
      "image/png": "[encoded data removed]",
      "text/plain": [
       "<Figure size 432x288 with 1 Axes>"
      ]
     },
     "metadata": {
      "needs_background": "light"
     },
     "output_type": "display_data"
    },
    {
     "name": "stdout",
     "output_type": "stream",
     "text": [
      "Pearsons correlation: 0.481\n"
     ]
    }
   ],
   "source": [
    "shm = df_median[df_median[\"latitude\"]<0][[\"elevation\",\"radiation\"]]\n",
    "print(f\"Number of samples: {len(shm)}\")\n",
    "\n",
    "plt.scatter(shm[\"elevation\"],shm[\"radiation\"])\n",
    "plt.xlabel(\"Elevation\")\n",
    "plt.ylabel(\"Radiation\")\n",
    "plt.show()\n",
    "\n",
    "shm_corr, _ = pearsonr(shm[\"elevation\"],shm[\"radiation\"])\n",
    "print(f\"Pearsons correlation: %.3f\" % (shm_corr))"
   ]
  },
  {
   "cell_type": "code",
   "execution_count": null,
   "metadata": {},
   "outputs": [],
   "source": []
  }
 ],
 "metadata": {
  "kernelspec": {
   "display_name": "Python 3",
   "language": "python",
   "name": "python3"
  },
  "language_info": {
   "codemirror_mode": {
    "name": "ipython",
    "version": 3
   },
   "file_extension": ".py",
   "mimetype": "text/x-python",
   "name": "python",
   "nbconvert_exporter": "python",
   "pygments_lexer": "ipython3",
   "version": "3.9.5"
  }
 },
 "nbformat": 4,
 "nbformat_minor": 4
}
